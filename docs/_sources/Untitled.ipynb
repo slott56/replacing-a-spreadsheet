{
 "cells": [
  {
   "cell_type": "markdown",
   "id": "connected-flooring",
   "metadata": {},
   "source": [
    "# Triangular Prism\n",
    "\n",
    "\n",
    "```{note}\n",
    "TODO: Subclass fractions.Fraction to create LaTeX rendering\n",
    "as proper and improper fractions.\n",
    "```"
   ]
  },
  {
   "cell_type": "code",
   "execution_count": 1,
   "id": "permanent-flower",
   "metadata": {
    "tags": [
     "hide-cell"
    ]
   },
   "outputs": [],
   "source": [
    "from myst_nb import glue"
   ]
  },
  {
   "cell_type": "code",
   "execution_count": 2,
   "id": "typical-slope",
   "metadata": {
    "tags": [
     "hide-cell"
    ]
   },
   "outputs": [],
   "source": [
    "from fractions import Fraction\n",
    "from math import floor"
   ]
  },
  {
   "cell_type": "markdown",
   "id": "foster-volunteer",
   "metadata": {},
   "source": [
    "The triangular prism is the area of the triangle, $\\frac{1}{2} h \\times w$, times the overall length of the prism, $l$.\n",
    "\n",
    "$$\n",
    "V = \\frac{\\frac{1}{2} h \\times w \\times l}{231 \\textbf{ cu in/gal}}\n",
    "$$\n",
    "\n",
    "We can state this using sympy to provide a formal definition,."
   ]
  },
  {
   "cell_type": "code",
   "execution_count": 3,
   "id": "civilian-mistress",
   "metadata": {},
   "outputs": [],
   "source": [
    "from sympy import *\n",
    "h, w, l = symbols('h w l')\n",
    "\n",
    "V = (Rational(1, 2) * h * w) * l / 231"
   ]
  },
  {
   "cell_type": "code",
   "execution_count": 4,
   "id": "naked-hobby",
   "metadata": {
    "tags": [
     "hide-cell"
    ]
   },
   "outputs": [
    {
     "data": {
      "text/latex": [
       "$\\displaystyle \\frac{h l w}{462}$"
      ],
      "text/plain": [
       "h*l*w/462"
      ]
     },
     "metadata": {
      "scrapbook": {
       "mime_prefix": "",
       "name": "Vol1"
      }
     },
     "output_type": "display_data"
    }
   ],
   "source": [
    "glue(\"Vol1\", V)"
   ]
  },
  {
   "cell_type": "markdown",
   "id": "driving-eleven",
   "metadata": {},
   "source": [
    "The volume of a triangular prism, converted from cubic inches to gallons.\n",
    "\n",
    "```{glue:math} Vol1\n",
    ":label: volume\n",
    "```\n",
    "\n",
    "Given a width, $w$, height, $h$, and the overall length, $l$, we know the volume of the space, $V$.\n",
    "\n",
    "In this case, we'll take the middle of the width and the middle of the height to make a triangular prism.\n",
    "The overall dimensions are as follows.\n",
    "\n",
    "(And, yes, these differ slightly from sketches shown elsewhere, these are actual sizes.)"
   ]
  },
  {
   "cell_type": "code",
   "execution_count": 10,
   "id": "geological-tomato",
   "metadata": {},
   "outputs": [],
   "source": [
    "# Forward and aft height of the cross-section triangle, in inches\n",
    "h_f = 8\n",
    "h_a = 27\n",
    "\n",
    "# Forward and aft \"width\" of the cross-section triangle, in inches.\n",
    "w_f = 10 + Rational(1, 2)\n",
    "w_a = 48\n",
    "\n",
    "# Overall length from forward to aft, in inches.\n",
    "l_fa = 46"
   ]
  },
  {
   "cell_type": "code",
   "execution_count": 16,
   "id": "nuclear-whale",
   "metadata": {},
   "outputs": [],
   "source": [
    "# Midpoint height\n",
    "h_m = Rational(1, 2)*(h_f + h_a)\n",
    "\n",
    "# Midpoint width\n",
    "w_m = Rational(1, 2)*(w_f + w_a)"
   ]
  },
  {
   "cell_type": "code",
   "execution_count": 17,
   "id": "oriented-rental",
   "metadata": {
    "tags": [
     "hide-cell"
    ]
   },
   "outputs": [
    {
     "data": {
      "text/latex": [
       "$\\displaystyle \\frac{195 l}{176}$"
      ],
      "text/plain": [
       "195*l/176"
      ]
     },
     "metadata": {
      "scrapbook": {
       "mime_prefix": "",
       "name": "Vol2"
      }
     },
     "output_type": "display_data"
    }
   ],
   "source": [
    "V_m = Rational(1, 2)*h_m*w_m*l / 231\n",
    "glue(\"Vol2\", V_m)"
   ]
  },
  {
   "cell_type": "code",
   "execution_count": 18,
   "id": "czech-spice",
   "metadata": {
    "tags": [
     "hide-cell"
    ]
   },
   "outputs": [
    {
     "data": {
      "text/latex": [
       "$\\displaystyle \\frac{4485}{88}$"
      ],
      "text/plain": [
       "4485/88"
      ]
     },
     "metadata": {
      "scrapbook": {
       "mime_prefix": "",
       "name": "Actual"
      }
     },
     "output_type": "display_data"
    },
    {
     "data": {
      "text/latex": [
       "$\\displaystyle 50.9659090909091$"
      ],
      "text/plain": [
       "50.9659090909091"
      ]
     },
     "metadata": {
      "scrapbook": {
       "mime_prefix": "",
       "name": "Actual_f"
      }
     },
     "output_type": "display_data"
    }
   ],
   "source": [
    "glue(\"Actual\", V_m.subs(l, l_fa))\n",
    "glue(\"Actual_f\", V_m.evalf(subs={l: l_fa}))"
   ]
  },
  {
   "cell_type": "markdown",
   "id": "dress-transport",
   "metadata": {},
   "source": [
    "Which gets us to this:\n",
    "    \n",
    "```{glue:math} Vol2\n",
    ":label: volume_m\n",
    "```\n",
    "\n",
    "Which evaluates to {glue:text}`Actual:.1f`, approximately {glue:text}`Actual_f:.1f` gallons."
   ]
  }
 ],
 "metadata": {
  "kernelspec": {
   "display_name": "Python 3",
   "language": "python",
   "name": "python3"
  },
  "language_info": {
   "codemirror_mode": {
    "name": "ipython",
    "version": 3
   },
   "file_extension": ".py",
   "mimetype": "text/x-python",
   "name": "python",
   "nbconvert_exporter": "python",
   "pygments_lexer": "ipython3",
   "version": "3.8.5"
  }
 },
 "nbformat": 4,
 "nbformat_minor": 5
}
