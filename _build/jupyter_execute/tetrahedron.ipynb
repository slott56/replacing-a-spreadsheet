{
 "cells": [
  {
   "cell_type": "markdown",
   "id": "regulation-monitor",
   "metadata": {},
   "source": [
    "# Regular Tetrahedron\n",
    "\n",
    "A tetrahedron is a structure with four triangular faces.\n",
    "\n",
    "Because the tank is flattened at the forward end, we could define a full-sized tetrahedron, and\n",
    "then truncate a tiny tetrahedron from the front to better estimate the remaining volume.\n",
    "\n",
    "A symmetric (or regular) Tetrahedron has a volume, $V$, based on the size of the edges, $a$.\n",
    "\n",
    "$$\n",
    "V = \\frac{a^3}{6\\sqrt{2}}\n",
    "$$\n",
    "\n",
    "In our case, the actual tank in question has a number of different edge lengths:\n",
    "\n",
    "-  There are three edges on the aft triangular face. We know the width and height, and can compute the other two edges.\n",
    "\n",
    "-  Of the three edges on the top triangular face, it shares an edge with the aft face. We know the width and height here, too, and can compute the remaining edges.\n",
    "\n",
    "-  Finally, the seam along the keel is the sixth and final edge. We can compute this knowing the the top and aft form a right triangle. The hypotenuse of this triangle is the bottom seam.\n",
    "\n",
    "We have accurate measurements of one edge and two heights. From these we can compute the others."
   ]
  },
  {
   "cell_type": "code",
   "execution_count": 15,
   "id": "apart-deposit",
   "metadata": {
    "tags": [
     "hide-cell"
    ]
   },
   "outputs": [],
   "source": [
    "from myst_nb import glue"
   ]
  },
  {
   "cell_type": "markdown",
   "id": "minimal-document",
   "metadata": {},
   "source": [
    "The measurements include some heights of isoscoles triangles, from which we need to work out the lengths of the edges.\n",
    "\n",
    "The aft face, for example is 48 inches across the base, $w$, and 27 tall, $h$. We can divide this into two right triangles, and compute the remaining edge, $e$, length.\n",
    "\n",
    "$$\n",
    "e = \\sqrt{{\\tfrac{w}{2}}^2 + h^2}\n",
    "$$"
   ]
  },
  {
   "cell_type": "markdown",
   "id": "civil-drilling",
   "metadata": {},
   "source": [
    "## Computing the six edges\n",
    "\n",
    "We've measured one edge and two heights:\n",
    "\n",
    "- The the top of the aft section edge is 48 inches.\n",
    "\n",
    "- The height of the base is 27 inches.\n",
    "\n",
    "- The height of the top is 46 inces.\n",
    "\n",
    "From these, we can compute the remaining edges applying the rule $e^2 = {\\frac{w}{2}}^2 + h^2$. This works because each isoscolese triangle is two right triangles."
   ]
  },
  {
   "cell_type": "code",
   "execution_count": 16,
   "id": "acceptable-disney",
   "metadata": {
    "tags": [
     "hide-cell"
    ]
   },
   "outputs": [],
   "source": [
    "from sympy import *\n",
    "a_1, a_2, a_3, a_4, a_5, a_6 = symbols('a_1 a_2 a_3 a_4 a_5 a_6')"
   ]
  },
  {
   "cell_type": "code",
   "execution_count": 17,
   "id": "understood-parish",
   "metadata": {},
   "outputs": [],
   "source": [
    "# The \"width\" (actually the top) of the aft triangle.\n",
    "a_1 = 48\n",
    "\n",
    "# The two sides of the aft triangle, given a height of 27\".\n",
    "a_2 = sqrt((Rational(1, 2)*a_1)**2 + S(27)**2)\n",
    "a_3 = a_2"
   ]
  },
  {
   "cell_type": "markdown",
   "id": "middle-motor",
   "metadata": {},
   "source": [
    "If the top were not truncated, it would be a triangle with a base of 48 inches, and height that's a little more than 46 inches. We'll stick with the truncated measurement of 46 inches, rather than estimate the full, untruncated height."
   ]
  },
  {
   "cell_type": "code",
   "execution_count": 18,
   "id": "guilty-hudson",
   "metadata": {},
   "outputs": [],
   "source": [
    "# The two edges of the top, given a height of 46\".\n",
    "a_4 = sqrt((Rational(1, 2)*a_1)**2 + S(46)**2)\n",
    "a_5 = a_4"
   ]
  },
  {
   "cell_type": "markdown",
   "id": "upper-mathematics",
   "metadata": {},
   "source": [
    "The seam along the bottom is the hypotenuse of a 46\" by 27\" right triangle."
   ]
  },
  {
   "cell_type": "code",
   "execution_count": 28,
   "id": "weighted-survivor",
   "metadata": {},
   "outputs": [],
   "source": [
    "a_6 = sqrt(S(27)**2 + S(46)**2)"
   ]
  },
  {
   "cell_type": "markdown",
   "id": "southern-academy",
   "metadata": {},
   "source": [
    "We can take the mean of these edges to estimate a regular tetrahedron that has a similar volume."
   ]
  },
  {
   "cell_type": "code",
   "execution_count": 29,
   "id": "extensive-campus",
   "metadata": {},
   "outputs": [],
   "source": [
    "m = (a_1 + a_2 + a_3 + a_4 + a_5 + a_6)/6"
   ]
  },
  {
   "cell_type": "code",
   "execution_count": 30,
   "id": "ranking-liberty",
   "metadata": {
    "tags": [
     "hide-cell"
    ]
   },
   "outputs": [
    {
     "data": {
      "text/latex": [
       "$\\displaystyle 8 + \\frac{\\sqrt{2845} + 6 \\sqrt{145} + 4 \\sqrt{673}}{6}$"
      ],
      "text/plain": [
       "8 + (sqrt(2845) + 6*sqrt(145) + 4*sqrt(673))/6"
      ]
     },
     "metadata": {
      "scrapbook": {
       "mime_prefix": "",
       "name": "edge"
      }
     },
     "output_type": "display_data"
    },
    {
     "data": {
      "text/latex": [
       "$\\displaystyle 46.23$"
      ],
      "text/plain": [
       "46.23"
      ]
     },
     "metadata": {
      "scrapbook": {
       "mime_prefix": "",
       "name": "edge_f"
      }
     },
     "output_type": "display_data"
    }
   ],
   "source": [
    "glue(\"edge\", radsimp(m))\n",
    "glue(\"edge_f\", m.evalf(4))"
   ]
  },
  {
   "cell_type": "markdown",
   "id": "blind-breast",
   "metadata": {},
   "source": [
    "This suggests an edge length of {glue:}`edge`, \n",
    "which is approximately {glue:text}`edge_f:.2f` inches.\n",
    "\n",
    "The volume needs to be converted from cubic inches to gallons, using the constant $231 \\frac{\\textbf{cu in}}{\\textbf{gal}}$"
   ]
  },
  {
   "cell_type": "code",
   "execution_count": 31,
   "id": "humanitarian-arnold",
   "metadata": {},
   "outputs": [],
   "source": [
    "V_r = m**3 / (6 * sqrt(2)) / 231"
   ]
  },
  {
   "cell_type": "code",
   "execution_count": 32,
   "id": "waiting-draft",
   "metadata": {
    "tags": [
     "hide-cell"
    ]
   },
   "outputs": [
    {
     "data": {
      "text/latex": [
       "$\\displaystyle V = \\frac{\\sqrt{2} \\left(48 + \\sqrt{2845} + 6 \\sqrt{145} + 4 \\sqrt{673}\\right)^{3}}{598752}$"
      ],
      "text/plain": [
       "Eq(V, sqrt(2)*(48 + sqrt(2845) + 6*sqrt(145) + 4*sqrt(673))**3/598752)"
      ]
     },
     "metadata": {
      "scrapbook": {
       "mime_prefix": "",
       "name": "V_r"
      }
     },
     "output_type": "display_data"
    },
    {
     "data": {
      "text/latex": [
       "$\\displaystyle 50.4$"
      ],
      "text/plain": [
       "50.40"
      ]
     },
     "metadata": {
      "scrapbook": {
       "mime_prefix": "",
       "name": "V_r_f"
      }
     },
     "output_type": "display_data"
    }
   ],
   "source": [
    "var(\"V\")\n",
    "glue(\"V_r\", Eq(V, radsimp(V_r)))\n",
    "glue(\"V_r_f\", V_r.evalf(4))"
   ]
  },
  {
   "cell_type": "markdown",
   "id": "based-nashville",
   "metadata": {},
   "source": [
    "This estimates a volume of {glue:}`V_r`, which is approximately {glue:text}`V_r_f:.2f` gallons. \n",
    "    \n",
    "This is close to the triangular prism estimate, so this is also a useful guage of the space."
   ]
  },
  {
   "cell_type": "markdown",
   "id": "premium-thirty",
   "metadata": {},
   "source": [
    "## Smallest and Largest\n",
    "\n",
    "Does it help to bracket this estimate with two other estimates, the least, $l$, and the greatest, $g$? If we split these, it's tolerably close to other estimates."
   ]
  },
  {
   "cell_type": "code",
   "execution_count": 33,
   "id": "rapid-alfred",
   "metadata": {},
   "outputs": [],
   "source": [
    "l = min([a_1, a_2, a_3, a_4, a_5, a_6])\n",
    "g = max([a_1, a_2, a_3, a_4, a_5, a_6])\n",
    "V_l = l**3 / (6 * sqrt(2)) / 231\n",
    "V_g = g**3 / (6 * sqrt(2)) / 231"
   ]
  },
  {
   "cell_type": "code",
   "execution_count": 34,
   "id": "postal-reading",
   "metadata": {
    "tags": [
     "hide-cell"
    ]
   },
   "outputs": [
    {
     "data": {
      "text/latex": [
       "$\\displaystyle 3 \\sqrt{145}$"
      ],
      "text/plain": [
       "3*sqrt(145)"
      ]
     },
     "metadata": {
      "scrapbook": {
       "mime_prefix": "",
       "name": "l"
      }
     },
     "output_type": "display_data"
    },
    {
     "data": {
      "text/latex": [
       "$\\displaystyle \\sqrt{2845}$"
      ],
      "text/plain": [
       "sqrt(2845)"
      ]
     },
     "metadata": {
      "scrapbook": {
       "mime_prefix": "",
       "name": "g"
      }
     },
     "output_type": "display_data"
    },
    {
     "data": {
      "text/latex": [
       "$\\displaystyle \\frac{435 \\sqrt{290}}{308}$"
      ],
      "text/plain": [
       "435*sqrt(290)/308"
      ]
     },
     "metadata": {
      "scrapbook": {
       "mime_prefix": "",
       "name": "V_l"
      }
     },
     "output_type": "display_data"
    },
    {
     "data": {
      "text/latex": [
       "$\\displaystyle 24.05$"
      ],
      "text/plain": [
       "24.05"
      ]
     },
     "metadata": {
      "scrapbook": {
       "mime_prefix": "",
       "name": "V_l_f"
      }
     },
     "output_type": "display_data"
    },
    {
     "data": {
      "text/latex": [
       "$\\displaystyle \\frac{2845 \\sqrt{5690}}{2772}$"
      ],
      "text/plain": [
       "2845*sqrt(5690)/2772"
      ]
     },
     "metadata": {
      "scrapbook": {
       "mime_prefix": "",
       "name": "V_g"
      }
     },
     "output_type": "display_data"
    },
    {
     "data": {
      "text/latex": [
       "$\\displaystyle 77.42$"
      ],
      "text/plain": [
       "77.42"
      ]
     },
     "metadata": {
      "scrapbook": {
       "mime_prefix": "",
       "name": "V_g_f"
      }
     },
     "output_type": "display_data"
    },
    {
     "data": {
      "text/latex": [
       "$\\displaystyle 50.74$"
      ],
      "text/plain": [
       "50.74"
      ]
     },
     "metadata": {
      "scrapbook": {
       "mime_prefix": "",
       "name": "V_lg_f"
      }
     },
     "output_type": "display_data"
    }
   ],
   "source": [
    "glue(\"l\", l)\n",
    "glue(\"g\", g)\n",
    "glue(\"V_l\", V_l)\n",
    "glue(\"V_l_f\", V_l.evalf(4))\n",
    "glue(\"V_g\", V_g)\n",
    "glue(\"V_g_f\", V_g.evalf(4))\n",
    "glue(\"V_lg_f\", (V_l.evalf(4)+V_g.evalf(4))/2)"
   ]
  },
  {
   "cell_type": "markdown",
   "id": "imposed-clerk",
   "metadata": {},
   "source": [
    "This varies from {glue:}`V_l` to {glue:}`V_g`. \n",
    "These extemes are approximately {glue:text}`V_l_f:.2f` gallons to {glue:text}`V_g_f:.2f` gallons. \n",
    "The midpoint, {glue:text}`V_lg_f:.2f` gallons, also seems to agree with other estimates."
   ]
  },
  {
   "cell_type": "markdown",
   "id": "suited-edinburgh",
   "metadata": {},
   "source": [
    "## Truncation\n",
    "\n",
    "There's a small 9\" tetrahedron we could truncate from this volume to improve accuracy. What's its volume?"
   ]
  },
  {
   "cell_type": "code",
   "execution_count": 37,
   "id": "royal-bouquet",
   "metadata": {},
   "outputs": [],
   "source": [
    "V_t = 9**3 / (6 * sqrt(2)) / 231"
   ]
  },
  {
   "cell_type": "code",
   "execution_count": 38,
   "id": "geographic-guard",
   "metadata": {
    "tags": [
     "hide-cell"
    ]
   },
   "outputs": [
    {
     "data": {
      "text/latex": [
       "$\\displaystyle \\frac{81 \\sqrt{2}}{308}$"
      ],
      "text/plain": [
       "81*sqrt(2)/308"
      ]
     },
     "metadata": {
      "scrapbook": {
       "mime_prefix": "",
       "name": "V_t"
      }
     },
     "output_type": "display_data"
    },
    {
     "data": {
      "text/latex": [
       "$\\displaystyle 0.3719$"
      ],
      "text/plain": [
       "0.3719"
      ]
     },
     "metadata": {
      "scrapbook": {
       "mime_prefix": "",
       "name": "V_t_f"
      }
     },
     "output_type": "display_data"
    }
   ],
   "source": [
    "glue(\"V_t\", V_t)\n",
    "glue(\"V_t_f\", V_t.evalf(4))"
   ]
  },
  {
   "cell_type": "markdown",
   "id": "grand-houston",
   "metadata": {},
   "source": [
    "This tiny bit of space is {glue:}`V_t`, which is approximately {glue:text}`V_t_f:.2f` gallons. \n",
    " It's negligible, however, being less than a gallon, and we can safely ignore it."
   ]
  },
  {
   "cell_type": "markdown",
   "id": "narrow-cooling",
   "metadata": {},
   "source": [
    "In the next section, we'll apply some calculus to compute the volume as an infnite some of triangles, each a slightly different shape. We can model the taper from fore to aft, and use this to compute a more accurate volume."
   ]
  },
  {
   "cell_type": "code",
   "execution_count": null,
   "id": "accepting-companion",
   "metadata": {},
   "outputs": [],
   "source": []
  }
 ],
 "metadata": {
  "kernelspec": {
   "display_name": "Python 3",
   "language": "python",
   "name": "python3"
  },
  "language_info": {
   "codemirror_mode": {
    "name": "ipython",
    "version": 3
   },
   "file_extension": ".py",
   "mimetype": "text/x-python",
   "name": "python",
   "nbconvert_exporter": "python",
   "pygments_lexer": "ipython3",
   "version": "3.8.5"
  }
 },
 "nbformat": 4,
 "nbformat_minor": 5
}