{
 "cells": [
  {
   "cell_type": "markdown",
   "id": "sustainable-telescope",
   "metadata": {},
   "source": [
    "# Triangular Prism\n",
    "\n",
    "A prism is a solid with two triangular faces joined by three rectangular faces. Referring back to the diagram, this is clearly not a good description of the space. The aft and and forward end are triangular, but the remaining three faces are not rectangles; the remaining faces are irregular quadrilaterals.\n",
    "\n",
    "The volume of a triangular prism is the area of the triangle, $\\frac{1}{2} h \\times w$, times the overall length of the prism, $l$.\n",
    "\n",
    "$$\n",
    "V = \\frac{\\frac{h \\times w}{2} \\times l}{231 \\textbf{ cu in/gal}}\n",
    "$$\n",
    "\n",
    "Our water tank has a large triangle aft and a small triangle forward. If we take the mean between these two extreme sizes, this should describe the space."
   ]
  },
  {
   "cell_type": "code",
   "execution_count": 1,
   "id": "committed-cyprus",
   "metadata": {
    "tags": [
     "hide-cell"
    ]
   },
   "outputs": [],
   "source": [
    "from myst_nb import glue"
   ]
  },
  {
   "cell_type": "code",
   "execution_count": 2,
   "id": "worthy-confusion",
   "metadata": {
    "tags": [
     "hide-cell"
    ]
   },
   "outputs": [
    {
     "data": {
      "text/latex": [
       "$\\displaystyle V = \\frac{h l w}{462}$"
      ],
      "text/plain": [
       "Eq(V, h*l*w/462)"
      ]
     },
     "metadata": {
      "scrapbook": {
       "mime_prefix": "",
       "name": "Vol1"
      }
     },
     "output_type": "display_data"
    }
   ],
   "source": [
    "from sympy import *\n",
    "h, w, l, V = symbols('h w l V')\n",
    "glue(\"Vol1\", Eq(V, (h * w) / 2 * l / 231, evaluate=False))"
   ]
  },
  {
   "cell_type": "markdown",
   "id": "christian-small",
   "metadata": {},
   "source": [
    "Here's a slightly simplified volume of a triangular prism, $V$, including the conversion from cubic inches to gallons.\n",
    "\n",
    "\n",
    "```{glue:math} Vol1\n",
    ":label: prism\n",
    "```\n",
    "\n",
    "Given a width, $w$, height, $h$, and the overall length, $l$, we know the volume of the space, $V$.\n",
    "\n",
    "Since the triangles are isoscolese, we've measured their base edge and height. We often call the base edge the \"width\" of the triangle in the computations that follow.\n",
    "If necessary, we can compute the other two edges, $e = \\sqrt{h^2+{\\frac{w}{2}}^2}$. \n",
    "\n",
    "## Middling the triangles\n",
    "\n",
    "For this model of the space, we'll take the middle of the widths and the middle of the heights to describe a regular triangular prism."
   ]
  },
  {
   "cell_type": "markdown",
   "id": "verified-accident",
   "metadata": {},
   "source": [
    "The height at the  midpoint, $h_m$, and the width at the midpoint, $w_m$, are as follows:"
   ]
  },
  {
   "cell_type": "code",
   "execution_count": 3,
   "id": "royal-granny",
   "metadata": {
    "tags": [
     "hide-cell"
    ]
   },
   "outputs": [
    {
     "data": {
      "text/plain": [
       "(h_f, h_a, w_f, w_a, l_fa)"
      ]
     },
     "execution_count": 3,
     "metadata": {},
     "output_type": "execute_result"
    }
   ],
   "source": [
    "var(\"h_f, h_a, w_f, w_a, l_fa\")"
   ]
  },
  {
   "cell_type": "code",
   "execution_count": 4,
   "id": "single-crowd",
   "metadata": {},
   "outputs": [],
   "source": [
    "h_m = Rational(1, 2)*(h_f + h_a)\n",
    "w_m = Rational(1, 2)*(w_f + w_a)"
   ]
  },
  {
   "cell_type": "markdown",
   "id": "greater-upset",
   "metadata": {},
   "source": [
    "It can help to see these expressions type set and simplified. Here's what the midpoints look like."
   ]
  },
  {
   "cell_type": "code",
   "execution_count": 5,
   "id": "actual-script",
   "metadata": {},
   "outputs": [
    {
     "data": {
      "text/latex": [
       "$\\displaystyle \\frac{h_{a}}{2} + \\frac{h_{f}}{2}$"
      ],
      "text/plain": [
       "h_a/2 + h_f/2"
      ]
     },
     "execution_count": 5,
     "metadata": {},
     "output_type": "execute_result"
    }
   ],
   "source": [
    "h_m"
   ]
  },
  {
   "cell_type": "code",
   "execution_count": 6,
   "id": "magnetic-wagon",
   "metadata": {},
   "outputs": [
    {
     "data": {
      "text/latex": [
       "$\\displaystyle \\frac{w_{a}}{2} + \\frac{w_{f}}{2}$"
      ],
      "text/plain": [
       "w_a/2 + w_f/2"
      ]
     },
     "execution_count": 6,
     "metadata": {},
     "output_type": "execute_result"
    }
   ],
   "source": [
    "w_m"
   ]
  },
  {
   "cell_type": "markdown",
   "id": "outside-supervision",
   "metadata": {},
   "source": [
    "## Volume \n",
    "\n",
    "The mid-point volume, $V_m$, is computed from the midpoint height and width, $h_m$ and $w_m$, and the overall length, $l_{fa}$. We can expand the midpoint values with the fore-and-aft sizes\n",
    "to get an overall computation given the five measurements we have."
   ]
  },
  {
   "cell_type": "code",
   "execution_count": 7,
   "id": "confident-gather",
   "metadata": {},
   "outputs": [
    {
     "data": {
      "text/latex": [
       "$\\displaystyle \\frac{h_{a} l_{fa} w_{a}}{1848} + \\frac{h_{a} l_{fa} w_{f}}{1848} + \\frac{h_{f} l_{fa} w_{a}}{1848} + \\frac{h_{f} l_{fa} w_{f}}{1848}$"
      ],
      "text/plain": [
       "h_a*l_fa*w_a/1848 + h_a*l_fa*w_f/1848 + h_f*l_fa*w_a/1848 + h_f*l_fa*w_f/1848"
      ]
     },
     "execution_count": 7,
     "metadata": {},
     "output_type": "execute_result"
    }
   ],
   "source": [
    "V_m = ((h_m * w_m)/2 * l_fa) / 231\n",
    "ratsimp(V_m)"
   ]
  },
  {
   "cell_type": "markdown",
   "id": "boring-enterprise",
   "metadata": {},
   "source": [
    "This form, while kind of confusing-looking, has various $h \\times w \\times l$ terms, giving us confidence that this will be a proper volume computation in cubic inches based on all three dimensions."
   ]
  },
  {
   "cell_type": "markdown",
   "id": "becoming-anchor",
   "metadata": {},
   "source": [
    "## Measurements\n",
    "\n",
    "The actual dimensions are as follows.\n",
    "(And, yes, these differ slightly from sketches shown earlier, these are actual sizes.) These are subject to change, so we've collected them in one plce."
   ]
  },
  {
   "cell_type": "code",
   "execution_count": 8,
   "id": "timely-april",
   "metadata": {},
   "outputs": [],
   "source": [
    "measured = {\n",
    "    # Forward triangle, in inches\n",
    "    \"h_f\": 8,\n",
    "    \"w_f\": 10 + Rational(1, 2),\n",
    "\n",
    "    # Aft triangle, in inches\n",
    "    \"h_a\": 27,\n",
    "    \"w_a\": 48,\n",
    "\n",
    "    # Overall length from forward to aft, in inches.\n",
    "    \"l_fa\": 46,\n",
    "}"
   ]
  },
  {
   "cell_type": "markdown",
   "id": "ranking-picking",
   "metadata": {},
   "source": [
    "We can substitute the measured values into the volume formula to compute the volume of the space. We'll need to reformulate this slightly, since it's a complex-looking fraction."
   ]
  },
  {
   "cell_type": "code",
   "execution_count": 9,
   "id": "about-invitation",
   "metadata": {},
   "outputs": [
    {
     "data": {
      "text/latex": [
       "$\\displaystyle \\frac{4485}{88}$"
      ],
      "text/plain": [
       "4485/88"
      ]
     },
     "execution_count": 9,
     "metadata": {},
     "output_type": "execute_result"
    }
   ],
   "source": [
    "V_m.subs(measured)"
   ]
  },
  {
   "cell_type": "code",
   "execution_count": 10,
   "id": "present-entrance",
   "metadata": {},
   "outputs": [
    {
     "data": {
      "text/plain": [
       "'50 85/88 gallons'"
      ]
     },
     "execution_count": 10,
     "metadata": {},
     "output_type": "execute_result"
    }
   ],
   "source": [
    "f\"{floor(V_m.subs(measured))} {frac(V_m.subs(measured))} gallons\""
   ]
  },
  {
   "cell_type": "markdown",
   "id": "nasty-portuguese",
   "metadata": {},
   "source": [
    "We can define a formal equation for volume given the five measurements. This is something we can use to recompute volume as the measurements evolve."
   ]
  },
  {
   "cell_type": "code",
   "execution_count": 11,
   "id": "sticky-photography",
   "metadata": {
    "tags": [
     "hide-cell"
    ]
   },
   "outputs": [
    {
     "data": {
      "text/latex": [
       "$\\displaystyle 0.00216 l_{fa} \\left(0.5 h_{a} + 0.5 h_{f}\\right) \\left(0.5 w_{a} + 0.5 w_{f}\\right)$"
      ],
      "text/plain": [
       "0.00216*l_fa*(0.5*h_a + 0.5*h_f)*(0.5*w_a + 0.5*w_f)"
      ]
     },
     "metadata": {
      "scrapbook": {
       "mime_prefix": "",
       "name": "Vol_m"
      }
     },
     "output_type": "display_data"
    }
   ],
   "source": [
    "glue(\"Vol_m\", V_m.evalf(3))"
   ]
  },
  {
   "cell_type": "markdown",
   "id": "hungry-punishment",
   "metadata": {},
   "source": [
    "Here's a the volume of a triangular prism, including the conversion from cubic inches to gallons.\n",
    "\n",
    "\n",
    "```{glue:math} Vol_m\n",
    ":label: prism_mid\n",
    "```\n",
    "\n",
    "Given the the following:\n",
    "\n",
    "- width, $w_f$, and height, $h_f$, of the forward triangle, \n",
    "- width, $w_a$, and height, $h_a$, of the aft triangle,\n",
    "- and the and the overall length, $l$.\n",
    "\n",
    "Finally, here's the number of gallons as a decimal number."
   ]
  },
  {
   "cell_type": "code",
   "execution_count": 12,
   "id": "documented-engine",
   "metadata": {},
   "outputs": [
    {
     "data": {
      "text/latex": [
       "$\\displaystyle 50.97$"
      ],
      "text/plain": [
       "50.97"
      ]
     },
     "execution_count": 12,
     "metadata": {},
     "output_type": "execute_result"
    }
   ],
   "source": [
    "V_m.evalf(4, measured)"
   ]
  },
  {
   "cell_type": "markdown",
   "id": "connected-monitoring",
   "metadata": {},
   "source": [
    "We'll use this as a baseline to compare to the other estimates.  Next, we'll treat the volume as a regular tetrahedron, also. The math is a little more complex: we'll need to deduce the lengths of some edges from the available height and width values."
   ]
  },
  {
   "cell_type": "code",
   "execution_count": null,
   "id": "least-polls",
   "metadata": {},
   "outputs": [],
   "source": []
  }
 ],
 "metadata": {
  "kernelspec": {
   "display_name": "Python 3",
   "language": "python",
   "name": "python3"
  },
  "language_info": {
   "codemirror_mode": {
    "name": "ipython",
    "version": 3
   },
   "file_extension": ".py",
   "mimetype": "text/x-python",
   "name": "python",
   "nbconvert_exporter": "python",
   "pygments_lexer": "ipython3",
   "version": "3.8.5"
  }
 },
 "nbformat": 4,
 "nbformat_minor": 5
}