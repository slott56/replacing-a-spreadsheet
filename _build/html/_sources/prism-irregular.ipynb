{
 "cells": [
  {
   "cell_type": "markdown",
   "id": "provincial-malpractice",
   "metadata": {},
   "source": [
    "# Tapered Triangular Prism\n",
    "\n",
    "A regular prism is a solid with two triangular faces joined by three rectangular faces. \n",
    "\n",
    "Referring back to the diagram, this is clearly not a good description of the space. The aft and and forward end are triangular, but the remaining three faces are not rectangles; the remaining faces are irregular quadrilaterals.\n",
    "\n",
    "One end of the prism, the aft end, or \"base\", is an isoscolese triangle, 27\" by 48\".\n",
    "The other end of the prism, the forward end, is an isoscolese triangle, 8\" by 10½\".\n",
    "The overall length is 46\".\n",
    "\n",
    "We can use calculus to sum an infinte sequence of triangles from the small forward end to the large aft end. This will compute the volume of the prism."
   ]
  },
  {
   "cell_type": "code",
   "execution_count": 1,
   "id": "electronic-difficulty",
   "metadata": {
    "tags": [
     "hide-cell"
    ]
   },
   "outputs": [],
   "source": [
    "from myst_nb import glue\n",
    "from sympy import *"
   ]
  },
  {
   "cell_type": "markdown",
   "id": "lonely-receptor",
   "metadata": {},
   "source": [
    "## Approach\n",
    "\n",
    "The volume, $V$, of a regular triangular prism is the area of the triangle at either end, $a$, integrated along the length of the prism, $l$.\n",
    "Since the area is fixed, $a = \\frac{h \\times w}{2}$, we have this.\n",
    "\n",
    "\n",
    "$$\n",
    "V_p = \\int_0^l a \\text{d}z = \\int_{0}^{l} \\frac{{h \\times w}}{{2}} \\text{d}z = \\frac{h \\times w \\times l}{2}\n",
    "$$\n",
    "\n",
    "In our case, we don't have the same triangle at each end with a fixed area. Instead, we must define area as a function of the offset from the forward end of the tank, $z$, $a = A(z)$, leading to a slightly more complex integral.\n",
    "\n",
    "$$\n",
    "V = \\int_0^l A(z) \\text{d}z\n",
    "$$\n",
    "\n",
    "When we compute the area at any point along the fore-to-aft axis of the tank, we can accurately compute the volume within that infinite sequence of triangles."
   ]
  },
  {
   "cell_type": "markdown",
   "id": "cordless-swing",
   "metadata": {},
   "source": [
    "As background, here's the regular prism volume computation done with `sympy`. This shows how we can translate the math to Python, and use this confirm our results."
   ]
  },
  {
   "cell_type": "code",
   "execution_count": 2,
   "id": "pleased-permit",
   "metadata": {},
   "outputs": [
    {
     "data": {
      "text/latex": [
       "$\\displaystyle \\int\\limits_{0}^{l} \\frac{h w}{2}\\, dz$"
      ],
      "text/plain": [
       "Integral(h*w/2, (z, 0, l))"
      ]
     },
     "execution_count": 2,
     "metadata": {},
     "output_type": "execute_result"
    }
   ],
   "source": [
    "h, w, l, z = symbols(\"h w l z\")\n",
    "\n",
    "Integral(h*w/2, (z, 0, l))"
   ]
  },
  {
   "cell_type": "code",
   "execution_count": 3,
   "id": "conditional-subject",
   "metadata": {},
   "outputs": [
    {
     "data": {
      "text/latex": [
       "$\\displaystyle \\frac{h l w}{2}$"
      ],
      "text/plain": [
       "h*l*w/2"
      ]
     },
     "execution_count": 3,
     "metadata": {},
     "output_type": "execute_result"
    }
   ],
   "source": [
    "Integral(h*w/2, (z, 0, l)).doit()"
   ]
  },
  {
   "cell_type": "markdown",
   "id": "patent-blues",
   "metadata": {},
   "source": [
    "The first step, then, is to compute the area of any triangle from the forward-most $10 \\tfrac{1}{2} \\times 8$ to the aft-most $48 \\times 27$."
   ]
  },
  {
   "cell_type": "markdown",
   "id": "applicable-thermal",
   "metadata": {},
   "source": [
    "## Measurements\n",
    "\n",
    "Here are the essential measurements. We've defined these as a dictionary so we can substitute them into other equations. This allows us to change the measurements and get results."
   ]
  },
  {
   "cell_type": "code",
   "execution_count": 4,
   "id": "nearby-evaluation",
   "metadata": {},
   "outputs": [],
   "source": [
    "var(\"h_f, h_a, w_f, w_a, l_fa\")\n",
    "measured = {\n",
    "    # Forward triangle, in inches\n",
    "    \"h_f\": 8,\n",
    "    \"w_f\": 10 + Rational(1, 2),\n",
    "\n",
    "    # Aft triangle, in inches\n",
    "    \"h_a\": 27,\n",
    "    \"w_a\": 48,\n",
    "\n",
    "    # Overall length from forward to aft, in inches.\n",
    "    \"l_fa\": 46,\n",
    "}"
   ]
  },
  {
   "cell_type": "markdown",
   "id": "outer-music",
   "metadata": {},
   "source": [
    "Here are the essential width as a function of height, $w_h$, and area based on height, $A_h$, given a height of the triangle, $h$. "
   ]
  },
  {
   "cell_type": "code",
   "execution_count": 5,
   "id": "reasonable-jason",
   "metadata": {
    "tags": [
     "hide-cell"
    ]
   },
   "outputs": [
    {
     "data": {
      "text/latex": [
       "$\\displaystyle w_{h} = \\frac{h w_{a}}{h_{a}}$"
      ],
      "text/plain": [
       "Eq(w_h, h*w_a/h_a)"
      ]
     },
     "metadata": {
      "scrapbook": {
       "mime_prefix": "",
       "name": "wfh"
      }
     },
     "output_type": "display_data"
    },
    {
     "data": {
      "text/latex": [
       "$\\displaystyle A_{h} = \\frac{h^{2} w_{a}}{2 h_{a}}$"
      ],
      "text/plain": [
       "Eq(A_h, h**2*w_a/(2*h_a))"
      ]
     },
     "metadata": {
      "scrapbook": {
       "mime_prefix": "",
       "name": "area_h"
      }
     },
     "output_type": "display_data"
    }
   ],
   "source": [
    "h, w_h, l, A, z, A_h, A_z = symbols('h w_h l A z A_h A_z')\n",
    "\n",
    "glue(\"wfh\", Eq(w_h, factor(w_a/h_a * h), evaluate=False))\n",
    "w_h = w_a/h_a * h\n",
    "\n",
    "glue(\"area_h\", Eq(A_h, Rational(1, 2) * h * w_h))"
   ]
  },
  {
   "cell_type": "markdown",
   "id": "marked-mandate",
   "metadata": {},
   "source": [
    "If we assume the fore and aft triangles are congruent, then the width, $w$, of the triangular face of the prism is a function of height, $h$.\n",
    "\n",
    "```{glue:math} wfh\n",
    ":label: width_from_height\n",
    "```\n",
    "\n",
    "Area, $A = \\frac{1}{2} \\times w \\times h$, can then become a function of height, $h$.\n",
    "\n",
    "```{glue:math} area_h\n",
    ":label: area_from_height\n",
    "```"
   ]
  },
  {
   "cell_type": "markdown",
   "id": "removed-mathematics",
   "metadata": {},
   "source": [
    "Height, $h$, depends on the distance along the z-distance, meadured from the front of the tank.\n",
    "The $z=0$ position is the forward edge, with a measured height of $h_f$. \n",
    "The $z=l_{fa}$ position is length from the forward edge to the aft edge; this has a measured height of $h_a$.\n",
    "\n",
    "$$\n",
    "h(z) = \\frac{\\Delta h}{\\Delta z} \\times z + h_f  = \\frac{h_a-h_f}{l_{fa}} \\times z + h_f\n",
    "$$\n",
    "\n",
    "We're assuming each of the two ends of the prism are congruent. This means we're imposing the aft width and height on the tank as a whole.\n",
    "\n",
    "Is this a safe assumption? Spoiler alert: it isn't."
   ]
  },
  {
   "cell_type": "markdown",
   "id": "suitable-dinner",
   "metadata": {},
   "source": [
    "## Challenging the Assumption\n",
    "\n",
    "We've assumed the shape of the forward and aft end of the tank are congruent triangles.\n",
    "We're treating this as a triangular section that grows in size from a small 8\" by 10½\" triangle \n",
    "to a large 27\" by 48\" triangle. \n",
    "\n",
    "Since $\\frac{8}{10 \\tfrac{1}{2}} \\neq \\frac{27}{48}$, we can see the two triangles aren't congruent. This simplifies to $\\frac{16}{21} \\neq \\frac{9}{16}$.\n",
    "\n",
    "Here are the two triangle area computations based on height. $A_a(h)$ uses the aft height-to-width ratio,\n",
    "$A_f(h)$ uses the forward height-to-width ratio. The $A(h)$ computations are quite different."
   ]
  },
  {
   "cell_type": "code",
   "execution_count": 6,
   "id": "surprising-issue",
   "metadata": {},
   "outputs": [],
   "source": [
    "w_a_h = w_a/h_a * h\n",
    "w_f_h = w_f/h_f * h\n",
    "\n",
    "A_a_h = Rational(1, 2) * h * w_a_h\n",
    "A_f_h = Rational(1, 2) * h * w_f_h"
   ]
  },
  {
   "cell_type": "code",
   "execution_count": 7,
   "id": "native-african",
   "metadata": {},
   "outputs": [
    {
     "data": {
      "text/latex": [
       "$\\displaystyle \\frac{8 h^{2}}{9}$"
      ],
      "text/plain": [
       "8*h**2/9"
      ]
     },
     "execution_count": 7,
     "metadata": {},
     "output_type": "execute_result"
    }
   ],
   "source": [
    "A_a_h.subs(measured)"
   ]
  },
  {
   "cell_type": "code",
   "execution_count": 8,
   "id": "outdoor-edmonton",
   "metadata": {},
   "outputs": [
    {
     "data": {
      "text/latex": [
       "$\\displaystyle 0.889 h^{2}$"
      ],
      "text/plain": [
       "0.889*h**2"
      ]
     },
     "execution_count": 8,
     "metadata": {},
     "output_type": "execute_result"
    }
   ],
   "source": [
    "A_a_h.subs(measured).evalf(3)"
   ]
  },
  {
   "cell_type": "code",
   "execution_count": 9,
   "id": "working-daisy",
   "metadata": {},
   "outputs": [
    {
     "data": {
      "text/latex": [
       "$\\displaystyle \\frac{21 h^{2}}{32}$"
      ],
      "text/plain": [
       "21*h**2/32"
      ]
     },
     "execution_count": 9,
     "metadata": {},
     "output_type": "execute_result"
    }
   ],
   "source": [
    "A_f_h.subs(measured)"
   ]
  },
  {
   "cell_type": "code",
   "execution_count": 10,
   "id": "dirty-cornell",
   "metadata": {},
   "outputs": [
    {
     "data": {
      "text/latex": [
       "$\\displaystyle 0.656 h^{2}$"
      ],
      "text/plain": [
       "0.656*h**2"
      ]
     },
     "execution_count": 10,
     "metadata": {},
     "output_type": "execute_result"
    }
   ],
   "source": [
    "A_f_h.subs(measured).evalf(3)"
   ]
  },
  {
   "cell_type": "markdown",
   "id": "plain-driving",
   "metadata": {},
   "source": [
    "This means a simple $A(h)$ computation using the height, $h$, to compute the area isn't going to be very useful. We have two choices:\n",
    "\n",
    "- Define area, $A(z)$ based on independent  $h(z)$ and $w(z)$. We can use $A(z) = \\frac{h(z) \\times w(z)}{2}$.\n",
    "\n",
    "- Use a midpoint ratio of width to height, $r_m$, to define area. If $w = r_m \\times h(z)$, then $A(z) = \\frac{h(z) \\times w}{2} = \\frac{h(z)^2 \\times r_m}{2}$.\n",
    "\n",
    "Using a midpoint ratio is slightly simpler, but suffers from a problem of being inaccurate. The difference between $0.889h^2$ and $0.656h^2$ for small values of $h$ will be significant.\n",
    "\n",
    "We need to compute the area using independent $h(z)$ and $w(z)$ functions."
   ]
  },
  {
   "cell_type": "markdown",
   "id": "adjustable-style",
   "metadata": {},
   "source": [
    "## Computing the Area\n",
    "\n",
    "We can use independent $h(z)$ and $w(z)$ functions to compute the overall area of each triangular section of the tank. \n",
    "\n",
    "We'll assume these are linear functions of the form $y = mx + b$. The slope, $m$, for height is $\\frac{\\Delta h}{\\Delta z}$, and the intercept, $b$, is the height at the forward end, $h_f$. The width equation is similar.\n",
    "\n",
    "This leads to two equations for $h_z$ and $w_z$, which are functions of the distance from the forward end, $z$. "
   ]
  },
  {
   "cell_type": "code",
   "execution_count": 11,
   "id": "presidential-machine",
   "metadata": {
    "tags": [
     "hide-cell"
    ]
   },
   "outputs": [
    {
     "data": {
      "text/latex": [
       "$\\displaystyle h_{f} + \\frac{z \\left(h_{a} - h_{f}\\right)}{l_{fa}}$"
      ],
      "text/plain": [
       "h_f + z*(h_a - h_f)/l_fa"
      ]
     },
     "metadata": {
      "scrapbook": {
       "mime_prefix": "",
       "name": "hfz"
      }
     },
     "output_type": "display_data"
    },
    {
     "data": {
      "text/latex": [
       "$\\displaystyle w_{f} + \\frac{z \\left(w_{a} - w_{f}\\right)}{l_{fa}}$"
      ],
      "text/plain": [
       "w_f + z*(w_a - w_f)/l_fa"
      ]
     },
     "metadata": {
      "scrapbook": {
       "mime_prefix": "",
       "name": "wfz"
      }
     },
     "output_type": "display_data"
    }
   ],
   "source": [
    "h_z = (h_a - h_f) / l_fa * z + h_f\n",
    "glue(\"hfz\", h_z)\n",
    "w_z = (w_a - w_f) / l_fa * z + w_f\n",
    "glue(\"wfz\", w_z)"
   ]
  },
  {
   "cell_type": "markdown",
   "id": "western-burning",
   "metadata": {},
   "source": [
    "The height, $h(z) =$ {glue:}`hfz`. The width, $w(z) =$ {glue:}`wfz`."
   ]
  },
  {
   "cell_type": "code",
   "execution_count": 12,
   "id": "dietary-workshop",
   "metadata": {},
   "outputs": [
    {
     "data": {
      "text/latex": [
       "$\\displaystyle \\frac{\\left(h_{a} z + h_{f} l_{fa} - h_{f} z\\right) \\left(l_{fa} w_{f} + w_{a} z - w_{f} z\\right)}{2 l_{fa}^{2}}$"
      ],
      "text/plain": [
       "(h_a*z + h_f*l_fa - h_f*z)*(l_fa*w_f + w_a*z - w_f*z)/(2*l_fa**2)"
      ]
     },
     "metadata": {
      "scrapbook": {
       "mime_prefix": "",
       "name": "area_z"
      }
     },
     "output_type": "display_data"
    }
   ],
   "source": [
    "A_z = factor(expand(Rational(1, 2) * h_z * w_z))\n",
    "glue(\"area_z\", A_z)"
   ]
  },
  {
   "cell_type": "markdown",
   "id": "plastic-violence",
   "metadata": {},
   "source": [
    "From $h(z)$ and $w(z)$, we can compute the area, $A_z$, as a function of the distance along the Z axis, $A(z) = \\frac{1}{2} h(z) w(z) = $ {glue:}`area_z`.\n",
    "\n",
    "This is a bit bulky. We can try to simplify it. First, however, we need to test it to be sure it produces proper area values."
   ]
  },
  {
   "cell_type": "markdown",
   "id": "norman-argentina",
   "metadata": {},
   "source": [
    "We can evaluate the $h(z)$ and $w(z)$ functions at $z=0$ and $z=l_{fa}$ to be sure we've got them right.  We expect $h(0) = h_f$, $h(l_{fa}) = h_a$, $w(0) = w_f$, and $w(l_{fa}) = w_a$. We can also substitute the actual measurements to compute values for the fore and aft triangles to be sure they match the original measurements."
   ]
  },
  {
   "cell_type": "code",
   "execution_count": 13,
   "id": "committed-timer",
   "metadata": {
    "tags": [
     "hide-cell"
    ]
   },
   "outputs": [
    {
     "data": {
      "text/latex": [
       "$\\displaystyle h_{f}$"
      ],
      "text/plain": [
       "h_f"
      ]
     },
     "execution_count": 13,
     "metadata": {},
     "output_type": "execute_result"
    }
   ],
   "source": [
    "h_z.subs({z: 0}).evalf()"
   ]
  },
  {
   "cell_type": "code",
   "execution_count": 14,
   "id": "stylish-doubt",
   "metadata": {},
   "outputs": [
    {
     "data": {
      "text/latex": [
       "$\\displaystyle w_{f}$"
      ],
      "text/plain": [
       "w_f"
      ]
     },
     "execution_count": 14,
     "metadata": {},
     "output_type": "execute_result"
    }
   ],
   "source": [
    "w_z.subs({z: 0}).evalf()"
   ]
  },
  {
   "cell_type": "code",
   "execution_count": 15,
   "id": "clean-logistics",
   "metadata": {},
   "outputs": [
    {
     "data": {
      "text/latex": [
       "$\\displaystyle h_{a}$"
      ],
      "text/plain": [
       "h_a"
      ]
     },
     "execution_count": 15,
     "metadata": {},
     "output_type": "execute_result"
    }
   ],
   "source": [
    "h_z.subs({z: l_fa}).evalf()"
   ]
  },
  {
   "cell_type": "code",
   "execution_count": 16,
   "id": "fuzzy-reynolds",
   "metadata": {},
   "outputs": [
    {
     "data": {
      "text/latex": [
       "$\\displaystyle w_{a}$"
      ],
      "text/plain": [
       "w_a"
      ]
     },
     "execution_count": 16,
     "metadata": {},
     "output_type": "execute_result"
    }
   ],
   "source": [
    "w_z.subs({z: l_fa}).evalf()"
   ]
  },
  {
   "cell_type": "code",
   "execution_count": 17,
   "id": "pacific-louisiana",
   "metadata": {},
   "outputs": [
    {
     "data": {
      "text/latex": [
       "$\\displaystyle 8.0$"
      ],
      "text/plain": [
       "8.00000000000000"
      ]
     },
     "metadata": {
      "scrapbook": {
       "mime_prefix": "",
       "name": "h_f"
      }
     },
     "output_type": "display_data"
    }
   ],
   "source": [
    "glue(\"h_f\", h_z.subs(measured).subs({z: 0}).evalf())"
   ]
  },
  {
   "cell_type": "code",
   "execution_count": 18,
   "id": "atomic-tissue",
   "metadata": {},
   "outputs": [
    {
     "data": {
      "text/latex": [
       "$\\displaystyle 10.5$"
      ],
      "text/plain": [
       "10.5000000000000"
      ]
     },
     "metadata": {
      "scrapbook": {
       "mime_prefix": "",
       "name": "w_f"
      }
     },
     "output_type": "display_data"
    }
   ],
   "source": [
    "glue(\"w_f\", w_z.subs(measured).subs({z: 0}).evalf())"
   ]
  },
  {
   "cell_type": "code",
   "execution_count": 19,
   "id": "labeled-burst",
   "metadata": {},
   "outputs": [
    {
     "data": {
      "text/latex": [
       "$\\displaystyle 27.0$"
      ],
      "text/plain": [
       "27.0000000000000"
      ]
     },
     "metadata": {
      "scrapbook": {
       "mime_prefix": "",
       "name": "h_a"
      }
     },
     "output_type": "display_data"
    }
   ],
   "source": [
    "glue(\"h_a\", h_z.subs(measured).subs({z: measured['l_fa']}).evalf())"
   ]
  },
  {
   "cell_type": "code",
   "execution_count": 20,
   "id": "respiratory-principle",
   "metadata": {},
   "outputs": [
    {
     "data": {
      "text/latex": [
       "$\\displaystyle 48.0$"
      ],
      "text/plain": [
       "48.0000000000000"
      ]
     },
     "metadata": {
      "scrapbook": {
       "mime_prefix": "",
       "name": "w_a"
      }
     },
     "output_type": "display_data"
    }
   ],
   "source": [
    "glue(\"w_a\", w_z.subs(measured).subs({z: measured['l_fa']}).evalf())"
   ]
  },
  {
   "cell_type": "markdown",
   "id": "respective-supervisor",
   "metadata": {},
   "source": [
    "To confirm that we've done this right so far, let's check the model against reality.\n",
    "\n",
    "At the forward end of the tank, this model predicts a triangle {glue:text}`w_f:.1f` across the top,\n",
    "    with a height of {glue:text}`h_f:.1f`. This matches the $10.5 \\times 8$ actual.\n",
    "    \n",
    "At the aft end of the tank, this model predicts a triangle {glue:text}`w_a:.1f` across the top,\n",
    "    with a height of {glue:text}`h_a:.1f`. This matches the $48 \\times 27$ actual, also.\n",
    "    \n",
    "Now that we can compute the shape of the triangle at each end of the space, we can compute the area, $A(z) = \\frac{h(z) w(z)}{2}$. From this, we can then compute the volume."
   ]
  },
  {
   "cell_type": "markdown",
   "id": "lightweight-fisher",
   "metadata": {},
   "source": [
    "## Volume based on overall length\n",
    "\n",
    "The volume is the integral of the areas, $A(z)$ where $z$ varies from zero to the length of the prism, $l_fa$.\n",
    "\n",
    "$$\n",
    "V = \\int_{0}^{l_{fa}} A(z) \\text{d}z\n",
    "$$\n",
    "\n",
    "For a regular prism this is the $V_p = \\frac{h l w}{2}$ formula. Our area is not simply $\\frac{hw}{2}$, it's $A(z) = $ {glue:}`area_z`."
   ]
  },
  {
   "cell_type": "code",
   "execution_count": 30,
   "id": "armed-biography",
   "metadata": {
    "tags": [
     "hide-cell"
    ]
   },
   "outputs": [
    {
     "data": {
      "text/latex": [
       "$\\displaystyle V = \\int\\limits_{0}^{l_{fa}} \\frac{\\left(h_{a} z + h_{f} l_{fa} - h_{f} z\\right) \\left(l_{fa} w_{f} + w_{a} z - w_{f} z\\right)}{2 l_{fa}^{2}}\\, dz$"
      ],
      "text/plain": [
       "Eq(V, Integral((h_a*z + h_f*l_fa - h_f*z)*(l_fa*w_f + w_a*z - w_f*z)/(2*l_fa**2), (z, 0, l_fa)))"
      ]
     },
     "metadata": {
      "scrapbook": {
       "mime_prefix": "",
       "name": "V"
      }
     },
     "output_type": "display_data"
    }
   ],
   "source": [
    "var(\"V\")\n",
    "glue(\"V\", Eq(V, Integral(A_z, (z, 0, l_fa))))"
   ]
  },
  {
   "cell_type": "markdown",
   "id": "billion-vintage",
   "metadata": {},
   "source": [
    "The volume is computed with \n",
    "\n",
    "```{glue:math} V\n",
    ":label: volume\n",
    "```\n",
    "\n",
    "We can substitute our measurements to get the volume. We'll apply the magical 231 cubic inch per gallon factor to get the volume in gallons of fresh water."
   ]
  },
  {
   "cell_type": "code",
   "execution_count": 31,
   "id": "worse-quantum",
   "metadata": {},
   "outputs": [
    {
     "data": {
      "text/plain": [
       "'56 79/90 gallons'"
      ]
     },
     "execution_count": 31,
     "metadata": {},
     "output_type": "execute_result"
    }
   ],
   "source": [
    "V = Integral(A_z.subs(measured), (z, 0, measured['l_fa']))\n",
    "V_r = (V.doit()/231).limit_denominator(100)\n",
    "f\"{floor(V_r)} {frac(V_r)} gallons\""
   ]
  },
  {
   "cell_type": "code",
   "execution_count": 32,
   "id": "connected-notebook",
   "metadata": {},
   "outputs": [
    {
     "data": {
      "text/latex": [
       "$\\displaystyle 56.9$"
      ],
      "text/plain": [
       "56.9"
      ]
     },
     "execution_count": 32,
     "metadata": {},
     "output_type": "execute_result"
    }
   ],
   "source": [
    "V_r.evalf(3)"
   ]
  },
  {
   "cell_type": "markdown",
   "id": "classical-chapel",
   "metadata": {},
   "source": [
    "## Simplified form\n",
    "\n",
    "We can create decimal approximations for the fractions, and work with a direct computation that avoids integration. It's not clear that this is simpler. The generic `simplify()` is a poor choice."
   ]
  },
  {
   "cell_type": "code",
   "execution_count": 24,
   "id": "local-highway",
   "metadata": {},
   "outputs": [
    {
     "data": {
      "text/latex": [
       "$\\displaystyle \\frac{0.00216 \\left(h_{f} l_{fa}^{3} w_{f} + l_{fa}^{3} \\left(\\frac{h_{a} w_{a}}{3} - \\frac{h_{a} w_{f}}{3} - \\frac{h_{f} w_{a}}{3} + \\frac{h_{f} w_{f}}{3}\\right) + l_{fa}^{2} \\left(\\frac{h_{a} l_{fa} w_{f}}{2} + \\frac{h_{f} l_{fa} w_{a}}{2} - h_{f} l_{fa} w_{f}\\right)\\right)}{l_{fa}^{2}}$"
      ],
      "text/plain": [
       "0.00216*(h_f*l_fa**3*w_f + l_fa**3*(h_a*w_a/3 - h_a*w_f/3 - h_f*w_a/3 + h_f*w_f/3) + l_fa**2*(h_a*l_fa*w_f/2 + h_f*l_fa*w_a/2 - h_f*l_fa*w_f))/l_fa**2"
      ]
     },
     "execution_count": 24,
     "metadata": {},
     "output_type": "execute_result"
    }
   ],
   "source": [
    "var(\"l\")\n",
    "simplify(Integral((A_z/231).evalf(3), (z, 0, l_fa)))"
   ]
  },
  {
   "cell_type": "markdown",
   "id": "upper-deadline",
   "metadata": {},
   "source": [
    "This variation collects the various factors together, giving a closed form that's kind of workable. It involves terms based on $l_{fa}$, $l_{fa}^2$, and $l_{fa}^3$ which seems about right. This has a single constant term out front for the conversion from cubic inches to gallons.\n",
    "\n",
    "(Using cubic centimeters and liters would avoid the magical 231 cubic inches per gallon.)\n",
    "\n",
    "\n",
    "We can try and factor the polynomial , which leads to a much simpler-looking computation of volume."
   ]
  },
  {
   "cell_type": "code",
   "execution_count": 25,
   "id": "respiratory-manhattan",
   "metadata": {},
   "outputs": [
    {
     "data": {
      "text/latex": [
       "$\\displaystyle 0.000361 l_{fa} \\left(2 h_{a} w_{a} + h_{a} w_{f} + h_{f} w_{a} + 2 h_{f} w_{f}\\right)$"
      ],
      "text/plain": [
       "0.000361*l_fa*(2*h_a*w_a + h_a*w_f + h_f*w_a + 2*h_f*w_f)"
      ]
     },
     "execution_count": 25,
     "metadata": {},
     "output_type": "execute_result"
    }
   ],
   "source": [
    "V_c = factor(simplify(Integral((A_z/231).evalf(3), (z, 0, l_fa))))\n",
    "V_c"
   ]
  },
  {
   "cell_type": "markdown",
   "id": "streaming-international",
   "metadata": {},
   "source": [
    "This seems to be an elegant closed-form equatio for computing volume from the given measurements. We can recompute the volume as our measurements improve."
   ]
  },
  {
   "cell_type": "code",
   "execution_count": 26,
   "id": "fabulous-grant",
   "metadata": {},
   "outputs": [
    {
     "data": {
      "text/latex": [
       "$\\displaystyle 56.9$"
      ],
      "text/plain": [
       "56.9"
      ]
     },
     "execution_count": 26,
     "metadata": {},
     "output_type": "execute_result"
    }
   ],
   "source": [
    "V_c.subs(measured)"
   ]
  },
  {
   "cell_type": "markdown",
   "id": "engaged-russian",
   "metadata": {},
   "source": [
    "## Matrices\n",
    "\n",
    "Note that in the closed form volume equation, each term has some combination of $h_a$, $w_a$, $h_f$, and $w_f$, and unavoidable source of complexity. This \"sum-of-combinations\" suggests there may is a matrix expression to summarize this complexity. \n",
    "\n",
    "The following nonsense shows that we can reproduce the volume formula. The following nonsense lacks a clear interpretation. Because it happens to work, it's likely related to the proper scalar triple product (or box product). "
   ]
  },
  {
   "cell_type": "code",
   "execution_count": 56,
   "id": "distant-proportion",
   "metadata": {},
   "outputs": [],
   "source": [
    "M_h = Matrix([h_a, h_f])\n",
    "M_w = Matrix([w_a, w_f])"
   ]
  },
  {
   "cell_type": "code",
   "execution_count": 57,
   "id": "final-consensus",
   "metadata": {},
   "outputs": [
    {
     "data": {
      "text/latex": [
       "$\\displaystyle \\frac{l_{fa} \\left(\\frac{h_{a} w_{a}}{3} + \\frac{h_{a} w_{f}}{6} + \\frac{h_{f} w_{a}}{6} + \\frac{h_{f} w_{f}}{3}\\right)}{462}$"
      ],
      "text/plain": [
       "l_fa*(h_a*w_a/3 + h_a*w_f/6 + h_f*w_a/6 + h_f*w_f/3)/462"
      ]
     },
     "execution_count": 57,
     "metadata": {},
     "output_type": "execute_result"
    }
   ],
   "source": [
    "V_m = l_fa*(M_h*M_w.transpose()).vec().dot(Matrix([S(1)/3, S(1)/6, S(1)/6, S(1)/3]))/(2*231)\n",
    "V_m"
   ]
  },
  {
   "cell_type": "code",
   "execution_count": 29,
   "id": "mineral-mainstream",
   "metadata": {},
   "outputs": [
    {
     "data": {
      "text/latex": [
       "$\\displaystyle 56.9$"
      ],
      "text/plain": [
       "56.9"
      ]
     },
     "execution_count": 29,
     "metadata": {},
     "output_type": "execute_result"
    }
   ],
   "source": [
    "V_m.subs(measured).evalf(3)"
   ]
  },
  {
   "cell_type": "markdown",
   "id": "freelance-equipment",
   "metadata": {},
   "source": [
    "We've left this in as a placeholder for future learning. This seems to be part of the parallelepiped dot product computation."
   ]
  }
 ],
 "metadata": {
  "kernelspec": {
   "display_name": "Python 3",
   "language": "python",
   "name": "python3"
  },
  "language_info": {
   "codemirror_mode": {
    "name": "ipython",
    "version": 3
   },
   "file_extension": ".py",
   "mimetype": "text/x-python",
   "name": "python",
   "nbconvert_exporter": "python",
   "pygments_lexer": "ipython3",
   "version": "3.8.5"
  }
 },
 "nbformat": 4,
 "nbformat_minor": 5
}
