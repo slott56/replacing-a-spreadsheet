{
 "cells": [
  {
   "cell_type": "markdown",
   "id": "congressional-french",
   "metadata": {},
   "source": [
    "# Irregular Tetrahedron\n",
    "\n",
    "A tetrahedron is a structure with four triangular faces.\n",
    "\n",
    "In our case, we have some irregularity.\n",
    "\n",
    "The \"base\" is an isoscolese triangle, 27 by 48.\n",
    "The \"top\" of the space is isoscolese triangle, 46 by 48.\n",
    "\n",
    "We can assume the shape from top to base is consistent, allowing us to work out a volume computation based on \n",
    "the distance from top to base.  There's a triangular section that grows in size from a small 10.5 x 8 triangle \n",
    "to a large 27 x 48 triangle.\n"
   ]
  },
  {
   "cell_type": "code",
   "execution_count": 1,
   "id": "laden-concrete",
   "metadata": {
    "tags": [
     "hide-cell"
    ]
   },
   "outputs": [],
   "source": [
    "from myst_nb import glue\n",
    "from sympy import *"
   ]
  },
  {
   "cell_type": "code",
   "execution_count": 2,
   "id": "political-mouse",
   "metadata": {},
   "outputs": [],
   "source": [
    "# Forward and aft height of the cross-section triangle, in inches\n",
    "h_f = S(8)\n",
    "h_a = S(27)\n",
    "\n",
    "# Forward and aft \"width\" of the cross-section triangle, in inches.\n",
    "w_f = S(10.5)\n",
    "w_a = S(48)\n",
    "\n",
    "# Overall length from forward to aft, in inches.\n",
    "l_fa = S(46)"
   ]
  },
  {
   "cell_type": "code",
   "execution_count": 16,
   "id": "isolated-tomorrow",
   "metadata": {
    "tags": [
     "hide-cell"
    ]
   },
   "outputs": [
    {
     "data": {
      "text/latex": [
       "$\\displaystyle \\frac{16 h}{9}$"
      ],
      "text/plain": [
       "16*h/9"
      ]
     },
     "metadata": {
      "scrapbook": {
       "mime_prefix": "",
       "name": "wfh"
      }
     },
     "output_type": "display_data"
    },
    {
     "data": {
      "text/latex": [
       "$\\displaystyle \\frac{8 h^{2}}{9}$"
      ],
      "text/plain": [
       "8*h**2/9"
      ]
     },
     "metadata": {
      "scrapbook": {
       "mime_prefix": "",
       "name": "area_h"
      }
     },
     "output_type": "display_data"
    }
   ],
   "source": [
    "h, w, l, A, z, A_h, A_z = symbols('h w l A z A_h A_z')\n",
    "w = w_a/h_a * h\n",
    "glue(\"wfh\", w)\n",
    "\n",
    "A_h = Rational(1, 2) * h * w \n",
    "glue(\"area_h\", A_h)"
   ]
  },
  {
   "cell_type": "markdown",
   "id": "packed-transaction",
   "metadata": {},
   "source": [
    "Width, $w$, is a function of height, $h$.\n",
    "\n",
    "```{glue:math} wfh\n",
    ":label: width_from_height\n",
    "```\n",
    "\n",
    "Area, $A = \\frac{1}{2} \\times w \\times h$, can then become a function of height, $h$.\n",
    "\n",
    "```{glue:math} area_h\n",
    ":label: area_from_height\n",
    "```"
   ]
  },
  {
   "cell_type": "markdown",
   "id": "confident-account",
   "metadata": {},
   "source": [
    "Height, $h$, is a function of the z-distance from the front of the tank.\n",
    "The $z=0$ position is the forward edge, with a height of $h_f$. \n",
    "The $z=l_{fa}$ position is the aft edge, with a height of $h_a$.\n",
    "\n",
    "$$\n",
    "h(z) = \\frac{\\Delta h}{\\Delta z} \\times z + h_f\n",
    "$$ \n",
    "\n",
    "$$\n",
    "h(z) = \\frac{h_a-h_f}{l_{fa}} \\times z + h_f\n",
    "$$"
   ]
  },
  {
   "cell_type": "code",
   "execution_count": 17,
   "id": "tough-mileage",
   "metadata": {
    "tags": [
     "hide-cell"
    ]
   },
   "outputs": [
    {
     "data": {
      "text/latex": [
       "$\\displaystyle \\frac{19 z}{46} + 8$"
      ],
      "text/plain": [
       "19*z/46 + 8"
      ]
     },
     "metadata": {
      "scrapbook": {
       "mime_prefix": "",
       "name": "hfz"
      }
     },
     "output_type": "display_data"
    },
    {
     "data": {
      "text/latex": [
       "$\\displaystyle \\frac{152 z}{207} + \\frac{128}{9}$"
      ],
      "text/plain": [
       "152*z/207 + 128/9"
      ]
     },
     "metadata": {
      "scrapbook": {
       "mime_prefix": "",
       "name": "wfz"
      }
     },
     "output_type": "display_data"
    },
    {
     "data": {
      "text/latex": [
       "$\\displaystyle \\frac{722 z^{2}}{4761} + \\frac{1216 z}{207} + \\frac{512}{9}$"
      ],
      "text/plain": [
       "722*z**2/4761 + 1216*z/207 + 512/9"
      ]
     },
     "metadata": {
      "scrapbook": {
       "mime_prefix": "",
       "name": "area_z"
      }
     },
     "output_type": "display_data"
    }
   ],
   "source": [
    "h_z = (h_a - h_f) / l_fa * z + h_f\n",
    "glue(\"hfz\", h_z)\n",
    "w_z = w_a/h_a * h_z\n",
    "glue(\"wfz\", w_z)\n",
    "A_z = expand(Rational(1, 2) * h_z * w_z)\n",
    "glue(\"area_z\", A_z)\n"
   ]
  },
  {
   "cell_type": "markdown",
   "id": "wrong-trinity",
   "metadata": {},
   "source": [
    "This means area is a function of the distance along the Z axis.\n",
    "\n",
    "The height, $h(z) =$ {glue:}`hfz`. The width, $w(z) =$ {glue:}`wfz`.\n",
    "\n",
    "The area, $A(z) =$ {glue:}`area_z`."
   ]
  },
  {
   "cell_type": "code",
   "execution_count": 18,
   "id": "varied-sleeve",
   "metadata": {
    "tags": [
     "hide-cell"
    ]
   },
   "outputs": [
    {
     "data": {
      "text/latex": [
       "$\\displaystyle 8.0$"
      ],
      "text/plain": [
       "8.00000000000000"
      ]
     },
     "metadata": {
      "scrapbook": {
       "mime_prefix": "",
       "name": "h_f"
      }
     },
     "output_type": "display_data"
    },
    {
     "data": {
      "text/latex": [
       "$\\displaystyle 14.2222222222222$"
      ],
      "text/plain": [
       "14.2222222222222"
      ]
     },
     "metadata": {
      "scrapbook": {
       "mime_prefix": "",
       "name": "w_f"
      }
     },
     "output_type": "display_data"
    },
    {
     "data": {
      "text/latex": [
       "$\\displaystyle 27.0$"
      ],
      "text/plain": [
       "27.0000000000000"
      ]
     },
     "metadata": {
      "scrapbook": {
       "mime_prefix": "",
       "name": "h_a"
      }
     },
     "output_type": "display_data"
    },
    {
     "data": {
      "text/latex": [
       "$\\displaystyle 48.0$"
      ],
      "text/plain": [
       "48.0000000000000"
      ]
     },
     "metadata": {
      "scrapbook": {
       "mime_prefix": "",
       "name": "w_a"
      }
     },
     "output_type": "display_data"
    }
   ],
   "source": [
    "glue(\"h_f\", h_z.subs({z: 0}).evalf())\n",
    "glue(\"w_f\", w_z.subs({z: 0}).evalf())\n",
    "glue(\"h_a\", h_z.subs({z: l_fa}).evalf())\n",
    "glue(\"w_a\", w_z.subs({z: l_fa}).evalf())\n"
   ]
  },
  {
   "cell_type": "markdown",
   "id": "incoming-lloyd",
   "metadata": {},
   "source": [
    "To confirm that we've done this right so far, let's check the model against reality.\n",
    "\n",
    "At the forward end of the tank, this model predicts a triangle {glue:text}`w_f:.1f` across the top,\n",
    "    with a height of {glue:text}`h_f:.1f`. This is a close fit against the 10.5 x 8.\n",
    "    \n",
    "At the aft end of the tank, this model predicts a triangle {glue:text}`w_a:.1f` across the top,\n",
    "    with a height of {glue:text}`h_a:.1f`. This is the exact size of the aft end.\n"
   ]
  },
  {
   "cell_type": "markdown",
   "id": "innocent-robert",
   "metadata": {},
   "source": [
    "The volume is the integral of the areas along the length of the prism.\n",
    "\n",
    "$$\n",
    "V_p = \\int_{0}^{l} \\frac{{h \\times w}}{{2}} z dz\n",
    "$$\n",
    "\n",
    "For a regular prism this is the $A = \\frac{1}{2}h w \\times l$ formula. Our area is not, however, simply $\\frac{1}{2}  h w$, it's $A(z) = $ {glue:}`area_z`.\n",
    "\n",
    "Our volume, in cubic inches, is defined as a definite integral of $A(z)$ from $z = 0$ to $z = 46$."
   ]
  },
  {
   "cell_type": "code",
   "execution_count": 19,
   "id": "metallic-bones",
   "metadata": {},
   "outputs": [],
   "source": [
    "V = Integral(A_z, (z, 0, l_fa))"
   ]
  },
  {
   "cell_type": "code",
   "execution_count": 20,
   "id": "nonprofit-footwear",
   "metadata": {
    "tags": [
     "hide-cell"
    ]
   },
   "outputs": [
    {
     "data": {
      "text/latex": [
       "$\\displaystyle \\int\\limits_{0}^{46} \\left(\\frac{722 z^{2}}{4761} + \\frac{1216 z}{207} + \\frac{512}{9}\\right)\\, dz$"
      ],
      "text/plain": [
       "Integral(722*z**2/4761 + 1216*z/207 + 512/9, (z, 0, 46))"
      ]
     },
     "metadata": {
      "scrapbook": {
       "mime_prefix": "",
       "name": "V"
      }
     },
     "output_type": "display_data"
    }
   ],
   "source": [
    "glue(\"V\", V)"
   ]
  },
  {
   "cell_type": "markdown",
   "id": "lovely-radius",
   "metadata": {},
   "source": [
    "The volume is computed with \n",
    "\n",
    "```{glue:math} V\n",
    ":label: volume\n",
    "```\n"
   ]
  },
  {
   "cell_type": "code",
   "execution_count": 31,
   "id": "exciting-tonight",
   "metadata": {},
   "outputs": [
    {
     "data": {
      "text/plain": [
       "'59 47/88 gallons'"
      ]
     },
     "execution_count": 31,
     "metadata": {},
     "output_type": "execute_result"
    }
   ],
   "source": [
    "V_r = (V.doit()/231).limit_denominator(100)\n",
    "f\"{floor(V_r)} {frac(V_r)} gallons\""
   ]
  },
  {
   "cell_type": "code",
   "execution_count": 32,
   "id": "random-prevention",
   "metadata": {},
   "outputs": [
    {
     "data": {
      "text/latex": [
       "$\\displaystyle 59.5$"
      ],
      "text/plain": [
       "59.5"
      ]
     },
     "execution_count": 32,
     "metadata": {},
     "output_type": "execute_result"
    }
   ],
   "source": [
    "V_r.evalf(3)"
   ]
  },
  {
   "cell_type": "code",
   "execution_count": null,
   "id": "collective-riding",
   "metadata": {},
   "outputs": [],
   "source": []
  }
 ],
 "metadata": {
  "kernelspec": {
   "display_name": "Python 3",
   "language": "python",
   "name": "python3"
  },
  "language_info": {
   "codemirror_mode": {
    "name": "ipython",
    "version": 3
   },
   "file_extension": ".py",
   "mimetype": "text/x-python",
   "name": "python",
   "nbconvert_exporter": "python",
   "pygments_lexer": "ipython3",
   "version": "3.8.5"
  }
 },
 "nbformat": 4,
 "nbformat_minor": 5
}
